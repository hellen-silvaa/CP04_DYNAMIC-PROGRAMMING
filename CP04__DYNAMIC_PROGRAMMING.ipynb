{
  "nbformat": 4,
  "nbformat_minor": 0,
  "metadata": {
    "colab": {
      "provenance": []
    },
    "kernelspec": {
      "name": "python3",
      "display_name": "Python 3"
    },
    "language_info": {
      "name": "python"
    }
  },
  "cells": [
    {
      "cell_type": "markdown",
      "source": [
        "**Checkpoint: Jogo das Pedras (Dynamic Programming 2025/2)**\n",
        "Professor: Marcelo Amorim\n",
        "\n",
        "Integrantes:\n",
        "- RM 558385 — Alexia Ramalho\n",
        "- RM 559008 — Hellen Silva\n",
        "- RM 557397 — Lorenzo Acquesta\n",
        "- RM 558859 — Wendell dos Santos\n"
      ],
      "metadata": {
        "id": "IfxH4eS15p8z"
      }
    },
    {
      "cell_type": "markdown",
      "source": [
        "**1. Função Recursiva Pura**\n",
        "\n",
        "Esta versão implementa a lógica de forma direta. Para saber se vence(n) é verdade, ela chama recursivamente vence(n-1), vence(n-2) e vence(n-3) para ver se alguma dessas posições é perdedora para o próximo jogador.\n",
        "\n",
        "Apesar de ser simples, ela recalcula os mesmos valores várias vezes, tornando-se muito lenta para números maiores (por exemplo, n > 35).\n"
      ],
      "metadata": {
        "id": "NEItwG60BW7B"
      }
    },
    {
      "cell_type": "code",
      "execution_count": 3,
      "metadata": {
        "id": "Rx2tDaxc4405",
        "colab": {
          "base_uri": "https://localhost:8080/"
        },
        "outputId": "997151c7-5d50-4814-f29d-1cbe1901f779"
      },
      "outputs": [
        {
          "output_type": "stream",
          "name": "stdout",
          "text": [
            "--- Função Recursiva Pura ---\n",
            "Com 4 pedras, o jogador da vez vence? False\n",
            "Com 5 pedras, o jogador da vez vence? True\n",
            "Com 12 pedras, o jogador da vez vence? False\n",
            "Com 13 pedras, o jogador da vez vence? True\n"
          ]
        }
      ],
      "source": [
        "\n",
        "def vence_recursivo(n: int) -> bool:\n",
        "    \"\"\"\n",
        "    Determina se o jogador da vez tem uma estratégia vencedora no Jogo das Pedras\n",
        "    para um monte com 'n' pedras, usando recursão pura.\n",
        "\n",
        "    Uma posição é vencedora se existe um movimento que leva a uma posição perdedora\n",
        "    para o oponente.\n",
        "\n",
        "    Args:\n",
        "        n: O número de pedras no monte.\n",
        "\n",
        "    Returns:\n",
        "        True se o jogador da vez pode vencer, False caso contrário.\n",
        "    \"\"\"\n",
        "    # Caso base: Se não há pedras, o jogador da vez não pode mover, então perde.\n",
        "    if n <= 0:\n",
        "        return False\n",
        "\n",
        "    # Casos base: Se pode pegar todas as pedras (1, 2 ou 3), o jogador vence.\n",
        "    if n <= 3:\n",
        "        return True\n",
        "\n",
        "    # Um jogador vence se puder fazer uma jogada que coloque o oponente\n",
        "    # em uma posição perdedora.\n",
        "    # A posição do oponente será perdedora se 'vence' para ele for False.\n",
        "    # Verificamos se existe algum movimento (retirar 1, 2 ou 3 pedras)\n",
        "    # tal que o oponente não consiga vencer a partir do estado resultante.\n",
        "    pode_vencer = not vence_recursivo(n - 1) or \\\n",
        "                   not vence_recursivo(n - 2) or \\\n",
        "                   not vence_recursivo(n - 3)\n",
        "\n",
        "    return pode_vencer\n",
        "\n",
        "print(\"--- Função Recursiva Pura ---\")\n",
        "print(f\"Com 4 pedras, o jogador da vez vence? {vence_recursivo(4)}\")   # Esperado: False\n",
        "print(f\"Com 5 pedras, o jogador da vez vence? {vence_recursivo(5)}\")   # Esperado: True\n",
        "print(f\"Com 12 pedras, o jogador da vez vence? {vence_recursivo(12)}\") # Esperado: False\n",
        "print(f\"Com 13 pedras, o jogador da vez vence? {vence_recursivo(13)}\") # Esperado: True"
      ]
    },
    {
      "cell_type": "markdown",
      "source": [
        "**2. Função Recursiva com Memoização**\n",
        "\n",
        "Esta versão otimizada utiliza memoização para resolver o problema de performance da função pura. Ela armazena os resultados já calculados em um cache para não precisar repeti-los. Com isso, a função se torna extremamente eficiente, capaz de encontrar a solução para milhares de pedras de forma quase instantânea."
      ],
      "metadata": {
        "id": "XMVrNdkIBiyo"
      }
    },
    {
      "cell_type": "code",
      "source": [
        "def vence_com_dicionario(n: int, memo: dict = None) -> bool:\n",
        "    \"\"\"Determina se existe uma estratégia vencedora a partir de um estado com 'n' pedras.\n",
        "\n",
        "    Esta função utiliza programação dinâmica top-down (memoização) para resolver\n",
        "    o Jogo das Pedras. Ela evita recalcular os resultados para um mesmo número\n",
        "    de pedras, armazenando-os em um dicionário (cache).\n",
        "\n",
        "    Args:\n",
        "        n: O número atual de pedras no monte.\n",
        "        memo: Dicionário usado como cache para a memoização. Deve ser omitido\n",
        "              na chamada inicial da função.\n",
        "\n",
        "    Returns:\n",
        "        True se o jogador da vez puder forçar uma vitória, False caso contrário.\n",
        "    \"\"\"\n",
        "    # Inicializa o cache na primeira chamada (quando memo é None).\n",
        "    if memo is None:\n",
        "        memo = {}\n",
        "\n",
        "    # Retorna o resultado do cache se este subproblema já foi resolvido.\n",
        "    if n in memo:\n",
        "        return memo[n]\n",
        "\n",
        "    # Caso base: um jogador que não pode mover (n <= 0) perde.\n",
        "    if n <= 0:\n",
        "        resultado = False\n",
        "    else:\n",
        "        # A posição é vencedora se *qualquer* um dos nossos movimentos possíveis\n",
        "        # levar a uma posição perdedora para o oponente.\n",
        "        # A expressão `any(...)` verifica exatamente isso de forma concisa.\n",
        "        pode_forcar_derrota = any(\n",
        "            not vence_com_dicionario(n - jogada, memo) for jogada in [1, 2, 3]\n",
        "        )\n",
        "        resultado = pode_forcar_derrota\n",
        "\n",
        "    # Armazena o resultado calculado no cache antes de retorná-lo.\n",
        "    memo[n] = resultado\n",
        "    return resultado\n",
        "\n",
        "# --- Testes para a função profissional ---\n",
        "print(\"--- Testando a Função com Memoização (Dicionário - Profissional) ---\")\n",
        "print(f\"Com 4 pedras, o jogador da vez vence? {vence_com_dicionario(4)}\")      # Esperado: False\n",
        "print(f\"Com 5 pedras, o jogador da vez vence? {vence_com_dicionario(5)}\")      # Esperado: True\n",
        "print(f\"Com 12 pedras, o jogador da vez vence? {vence_com_dicionario(12)}\")    # Esperado: False"
      ],
      "metadata": {
        "colab": {
          "base_uri": "https://localhost:8080/"
        },
        "id": "yGyUHMJlBrIJ",
        "outputId": "7bd71c60-9cc2-4f0b-8d21-94b7f82af5fc"
      },
      "execution_count": 8,
      "outputs": [
        {
          "output_type": "stream",
          "name": "stdout",
          "text": [
            "--- Testando a Função com Memoização (Dicionário - Profissional) ---\n",
            "Com 4 pedras, o jogador da vez vence? False\n",
            "Com 5 pedras, o jogador da vez vence? True\n",
            "Com 12 pedras, o jogador da vez vence? False\n"
          ]
        }
      ]
    }
  ]
}